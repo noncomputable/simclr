{
 "cells": [
  {
   "cell_type": "code",
   "execution_count": 1,
   "id": "e113d3e8",
   "metadata": {},
   "outputs": [],
   "source": [
    "%load_ext autoreload\n",
    "%autoreload 2"
   ]
  },
  {
   "cell_type": "code",
   "execution_count": 24,
   "id": "166991c1",
   "metadata": {},
   "outputs": [
    {
     "name": "stdout",
     "output_type": "stream",
     "text": [
      "tensor([[ 1.0000,  2.0000],\n",
      "        [ 3.0000, -2.0000],\n",
      "        [ 1.0000,  5.0000],\n",
      "        [ 1.0000,  0.7500],\n",
      "        [ 2.8000, -1.7500],\n",
      "        [ 1.0000,  4.7000]])\n",
      "tensor([[[ 1.0000,  2.0000],\n",
      "         [ 3.0000, -2.0000],\n",
      "         [ 1.0000,  5.0000],\n",
      "         [ 1.0000,  0.7500],\n",
      "         [ 2.8000, -1.7500],\n",
      "         [ 1.0000,  4.7000]]])\n"
     ]
    },
    {
     "data": {
      "text/plain": [
       "tensor([[ 1.0000, -0.1240,  0.9648,  0.8944, -0.0948,  0.9679],\n",
       "        [-0.1240,  1.0000, -0.3807,  0.3328,  0.9996, -0.3694],\n",
       "        [ 0.9648, -0.3807,  1.0000,  0.7452, -0.3534,  0.9999],\n",
       "        [ 0.8944,  0.3328,  0.7452,  1.0000,  0.3604,  0.7533],\n",
       "        [-0.0948,  0.9996, -0.3534,  0.3604,  1.0000, -0.3419],\n",
       "        [ 0.9679, -0.3694,  0.9999,  0.7533, -0.3419,  1.0000]])"
      ]
     },
     "execution_count": 24,
     "metadata": {},
     "output_type": "execute_result"
    }
   ],
   "source": [
    "cm = torch.cat([I,J])\n",
    "print(cm)\n",
    "print(cm.unsqueeze(0))\n",
    "#torch.nn.functional.cosine_similarity(cm.unsqueeze(0),cm.unsqueeze(1))\n",
    "torch.nn.functional.cosine_similarity(cm.unsqueeze(0), cm.unsqueeze(1), dim = 2)"
   ]
  },
  {
   "cell_type": "code",
   "execution_count": null,
   "id": "3198a150",
   "metadata": {},
   "outputs": [],
   "source": []
  }
 ],
 "metadata": {
  "kernelspec": {
   "display_name": "Python [conda env:root] *",
   "language": "python",
   "name": "conda-root-py"
  },
  "language_info": {
   "codemirror_mode": {
    "name": "ipython",
    "version": 3
   },
   "file_extension": ".py",
   "mimetype": "text/x-python",
   "name": "python",
   "nbconvert_exporter": "python",
   "pygments_lexer": "ipython3",
   "version": "3.9.7"
  }
 },
 "nbformat": 4,
 "nbformat_minor": 5
}
