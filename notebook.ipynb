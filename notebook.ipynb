{
 "cells": [
  {
   "cell_type": "code",
   "execution_count": null,
   "id": "d0032ab8",
   "metadata": {},
   "outputs": [],
   "source": [
    "%load_ext autoreload\n",
    "%autoreload 2"
   ]
  },
  {
   "cell_type": "markdown",
   "id": "20d0e9c7",
   "metadata": {},
   "source": [
    "## Setup data"
   ]
  },
  {
   "cell_type": "code",
   "execution_count": null,
   "id": "98e1c0e8",
   "metadata": {},
   "outputs": [],
   "source": [
    "from torchvision.datasets import STL10\n",
    "stl10_unlabeled = STL10(\"./data\", split=\"unlabeled\", download=True)"
   ]
  },
  {
   "cell_type": "code",
   "execution_count": null,
   "id": "d54d3a03",
   "metadata": {},
   "outputs": [],
   "source": [
    "from dataset import AugmentedDataset\n",
    "import torchvision.transforms.functional as tvf\n",
    "aug_ds = AugmentedDataset(stl10_unlabeled, (100,100))"
   ]
  },
  {
   "cell_type": "markdown",
   "id": "1712139c",
   "metadata": {},
   "source": [
    "## Setup PL Embeddor"
   ]
  },
  {
   "cell_type": "code",
   "execution_count": null,
   "id": "c490e339",
   "metadata": {},
   "outputs": [],
   "source": [
    "import torchvision, torch\n",
    "import pytorch_lightning as pl\n",
    "\n",
    "base_model = torchvision.models.efficientnet_b0(from_pretrained=True)\n",
    "\n",
    "class Identity(torch.nn.Module):\n",
    "    def __init__(self):\n",
    "        super().__init__()\n",
    "        \n",
    "    def forward(self, x):\n",
    "        return x\n",
    "    \n",
    "base_model.classifier = Identity()\n",
    "base_out_size = base_model(aug_ds[0][0][0].unsqueeze(0)).shape[1]\n",
    "print(base_out_size)"
   ]
  },
  {
   "cell_type": "code",
   "execution_count": null,
   "id": "159eb03c",
   "metadata": {},
   "outputs": [],
   "source": [
    "from train import SimCLREmbeddor\n",
    "\n",
    "embed_size = 50\n",
    "temperature = .1\n",
    "batch_size = 100\n",
    "train_count = 10000\n",
    "val_count = 1000\n",
    "lr = .003\n",
    "\n",
    "embeddor = SimCLREmbeddor(aug_ds, base_model, base_out_size, embed_size = embed_size, temperature = temperature, \n",
    "                      batch_size = batch_size, train_count = train_count, val_count = val_count, lr = lr)"
   ]
  },
  {
   "cell_type": "code",
   "execution_count": null,
   "id": "6691f393",
   "metadata": {
    "scrolled": false
   },
   "outputs": [],
   "source": [
    "trainer = pl.Trainer(log_every_n_steps = 50, max_epochs = 100)"
   ]
  },
  {
   "cell_type": "markdown",
   "id": "9c291c6e",
   "metadata": {},
   "source": [
    "#### Get good initial lr"
   ]
  },
  {
   "cell_type": "code",
   "execution_count": null,
   "id": "705c27bf",
   "metadata": {},
   "outputs": [],
   "source": [
    "lr_find_emb = trainer.tuner.lr_find(embeddor)"
   ]
  },
  {
   "cell_type": "code",
   "execution_count": null,
   "id": "214ef7d6",
   "metadata": {},
   "outputs": [],
   "source": [
    "lr_find_emb.plot(show=False, suggest=True)\n",
    "emb_lr = lr_find_emb.suggestion()"
   ]
  },
  {
   "cell_type": "code",
   "execution_count": null,
   "id": "ce191699",
   "metadata": {},
   "outputs": [],
   "source": [
    "emb_opt = embeddor.optimizers()\n",
    "emb_opt.param_groups[0]['lr'] = emb_lr"
   ]
  },
  {
   "cell_type": "code",
   "execution_count": null,
   "id": "e746fce2",
   "metadata": {},
   "outputs": [],
   "source": [
    "trainer.fit(embeddor)"
   ]
  },
  {
   "cell_type": "markdown",
   "id": "336d6202",
   "metadata": {},
   "source": [
    "#### Save checkpoint"
   ]
  },
  {
   "cell_type": "code",
   "execution_count": null,
   "id": "7deb6217",
   "metadata": {},
   "outputs": [],
   "source": [
    "emb_checkpoint_file = \"checkpoints/efficientnet-b0-stl10-embeddor.ckpt\"\n",
    "trainer.save_checkpoint(emb_checkpoint_file)"
   ]
  },
  {
   "cell_type": "markdown",
   "id": "081e3dad",
   "metadata": {},
   "source": [
    "## Setup PL Classifier"
   ]
  },
  {
   "cell_type": "code",
   "execution_count": null,
   "id": "ec5a6278",
   "metadata": {},
   "outputs": [],
   "source": [
    "from dataset import get_normalized_dataset\n",
    "\n",
    "norm_ds_class = get_normalized_dataset(STL10)"
   ]
  },
  {
   "cell_type": "code",
   "execution_count": null,
   "id": "64ed19b4",
   "metadata": {},
   "outputs": [],
   "source": [
    "norm_ds = norm_ds_class(\"./data\", \"train\")"
   ]
  },
  {
   "cell_type": "code",
   "execution_count": null,
   "id": "7395e4d8",
   "metadata": {},
   "outputs": [],
   "source": [
    "from train import SimCLRClassifier\n",
    "\n",
    "bqatch_size = 160\n",
    "n_classes = 10\n",
    "freeze_base = True\n",
    "epochs = 100\n",
    "lr = .03\n",
    "\n",
    "embeddor = SimCLREmbeddor.load_from_checkpoint(emb_checkpoint_file, dataset=ds, base_model=base_model).model\n",
    "classifier = SimCLRClassifier(norm_ds_class, embeddor, n_classes=n_classes, freeze_base=freeze_base,\n",
    "                              batch_size=batch_size, epochs=epochs, lr=lr)"
   ]
  },
  {
   "cell_type": "code",
   "execution_count": null,
   "id": "a90a192a",
   "metadata": {
    "scrolled": true
   },
   "outputs": [],
   "source": [
    "trainer = pl.Trainer(log_every_n_steps = 50, max_epochs = 10)"
   ]
  },
  {
   "cell_type": "markdown",
   "id": "e3922303",
   "metadata": {},
   "source": [
    "#### Get good initial lr"
   ]
  },
  {
   "cell_type": "code",
   "execution_count": null,
   "id": "6cecdc81",
   "metadata": {},
   "outputs": [],
   "source": [
    "lr_find_cls = trainer.tuner.lr_find(classifier)"
   ]
  },
  {
   "cell_type": "code",
   "execution_count": null,
   "id": "92e6d8ae",
   "metadata": {},
   "outputs": [],
   "source": [
    "lr_find_cls.plot(show=False, suggest=True)\n",
    "cls_lr = lr_find_cls.suggestion()"
   ]
  },
  {
   "cell_type": "code",
   "execution_count": null,
   "id": "712a998f",
   "metadata": {},
   "outputs": [],
   "source": [
    "cls_opt = classifier.optimizers()\n",
    "cls_opt.param_groups[0]['lr'] = cls_lr"
   ]
  },
  {
   "cell_type": "code",
   "execution_count": null,
   "id": "810089a0",
   "metadata": {},
   "outputs": [],
   "source": [
    "trainer.fit(classifier)"
   ]
  },
  {
   "cell_type": "markdown",
   "id": "b20ad731",
   "metadata": {},
   "source": [
    "## View logs"
   ]
  },
  {
   "cell_type": "code",
   "execution_count": null,
   "id": "708589c2",
   "metadata": {},
   "outputs": [],
   "source": [
    "%load_ext tensorboard\n",
    "%tensorboard --logdir ./lightning_logs/"
   ]
  }
 ],
 "metadata": {
  "kernelspec": {
   "display_name": "Python [conda env:unsup]",
   "language": "python",
   "name": "conda-env-unsup-py"
  },
  "language_info": {
   "codemirror_mode": {
    "name": "ipython",
    "version": 3
   },
   "file_extension": ".py",
   "mimetype": "text/x-python",
   "name": "python",
   "nbconvert_exporter": "python",
   "pygments_lexer": "ipython3",
   "version": "3.9.9"
  }
 },
 "nbformat": 4,
 "nbformat_minor": 5
}
